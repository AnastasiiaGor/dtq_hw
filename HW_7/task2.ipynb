{
 "cells": [
  {
   "cell_type": "code",
   "execution_count": 46,
   "metadata": {},
   "outputs": [],
   "source": [
    "from pyspark.sql import SparkSession, DataFrame\n",
    "from pyspark.sql.types import StructType, StructField, IntegerType, StringType, DoubleType\n",
    "from pyspark.sql.functions import *"
   ]
  },
  {
   "cell_type": "code",
   "execution_count": 101,
   "metadata": {},
   "outputs": [
    {
     "name": "stdout",
     "output_type": "stream",
     "text": [
      "+--------------+--------------+-------+-------------+--------------------------+---------------------------+-----------------------------+\n",
      "|departure_date|departure_time|airline|flight_number|daily_flight_serial_number|airline_daily_flights_count|time_since_previous_departure|\n",
      "+--------------+--------------+-------+-------------+--------------------------+---------------------------+-----------------------------+\n",
      "|    2015-01-01|      00:00:00|     AA|         1285|                        59|                       1473|                            0|\n",
      "|    2015-01-01|      00:00:00|     MQ|         3263|                       295|                        929|                            0|\n",
      "|    2015-01-01|      00:00:00|     OO|         5445|                        33|                       1487|                            0|\n",
      "|    2015-01-01|      06:05:00|     UA|         1224|                       840|                       1285|                            2|\n",
      "|    2015-01-01|      06:12:00|     UA|          374|                       896|                       1285|                            2|\n",
      "|    2015-01-01|      07:26:00|     UA|          656|                      1595|                       1285|                            2|\n",
      "|    2015-01-01|      07:35:00|     B6|         1033|                      1696|                        757|                            0|\n",
      "|    2015-01-01|      07:42:00|     DL|         1430|                      1770|                       1559|                            2|\n",
      "|    2015-01-01|      07:54:00|     B6|         1347|                      1890|                        757|                            1|\n",
      "|    2015-01-01|      08:06:00|     OO|         5178|                      2080|                       1487|                            1|\n",
      "|    2015-01-01|      08:25:00|     OO|         6207|                      2319|                       1487|                            1|\n",
      "|    2015-01-01|      08:34:00|     WN|           23|                      2431|                       2758|                            1|\n",
      "|    2015-01-01|      08:36:00|     AA|         1339|                      2460|                       1473|                            1|\n",
      "|    2015-01-01|      08:38:00|     DL|         2030|                      2474|                       1559|                            2|\n",
      "|    2015-01-01|      08:44:00|     DL|         1470|                      2563|                       1559|                            0|\n",
      "|    2015-01-01|      08:55:00|     DL|            7|                      2692|                       1559|                            0|\n",
      "|    2015-01-01|      09:00:00|     OO|         5490|                      2781|                       1487|                            1|\n",
      "|    2015-01-01|      09:33:00|     US|          771|                      3202|                       1032|                            0|\n",
      "|    2015-01-01|      09:50:00|     UA|         1067|                      3434|                       1285|                            1|\n",
      "|    2015-01-01|      09:57:00|     MQ|         3138|                      3525|                        929|                            1|\n",
      "+--------------+--------------+-------+-------------+--------------------------+---------------------------+-----------------------------+\n",
      "only showing top 20 rows\n",
      "\n"
     ]
    }
   ],
   "source": [
    "spark = SparkSession \\\n",
    "    .builder \\\n",
    "    .getOrCreate()\n",
    "flights1 = spark.read.option('header', True).parquet('workspace/query1') \\\n",
    "    .withColumn(\"departure_date\", col(\"departure_date\")).withColumn(\"departure_time\", col(\"departure_time\")) \\\n",
    "    .fillna({\"departure_time\": \"2015-01-01\", \"departure_time\": \"00:00:00\"})\n",
    "flights1.show()\n",
    "\n"
   ]
  },
  {
   "cell_type": "code",
   "execution_count": 287,
   "metadata": {},
   "outputs": [],
   "source": [
    "year_month = spark.udf\\\n",
    "    .register(\"year_month\", lambda year, month: f\"{year}-{month}\")\n",
    "airlines_csv = spark.read.option('header', True).csv('workspace/airlines.csv')\n",
    "airlines = spark.read.option(\"mode\", \"PERMISSIVE\").option(\"multiline\", True).json('workspace/airlines.json')\\\n",
    "    .withColumn(\"year_month\", year_month(col(\"Time.Year\"), col(\"Time.Month\")))\\\n",
    "    .withColumn(\"number_of_delays_for_airport\", col(\"Statistics.Flights.Diverted\") + col(\"Statistics.Flights.Cancelled\") + col(\"Statistics.Flights.Delayed\"))\\\n",
    "    .withColumn(\"airline_name\", explode(split(col(\"Statistics.Carriers.Names\"), ',')))\\\n",
    "    .withColumn(\"airport_code\", col(\"Airport.Code\"))\n",
    "cond = [airlines.airline_name == airlines_csv.AIRLINE]\n",
    "airlines_new = airlines.join(airlines_csv, cond, 'left').select('year_month', 'airport_code', 'number_of_delays_for_airport', col('IATA_CODE').alias('airline_iata_code'), 'airline_name').sort('number_of_delays_for_airport')\\\n",
    "    .fillna({'airline_iata_code': 'N/A'})\n",
    "airlines_new.write.parquet('workspace/new_airlines')\n"
   ]
  },
  {
   "cell_type": "code",
   "execution_count": 288,
   "metadata": {},
   "outputs": [],
   "source": [
    "year_month = spark.udf\\\n",
    "    .register(\"year_month\", lambda year, month: f\"{year}-{month}\")\n",
    "cond1 = col(\"DEPARTURE_DELAY\") > 0\n",
    "cond2 = col(\"ARRIVAL_DELAY\") > 0\n",
    "cond3 = col(\"CANCELLED\") == 1\n",
    "cond4 = col(\"DEPARTURE_DELAY\") <= 0\n",
    "cond5 = col(\"DIVERTED\") == 1\n",
    "flights_csv = spark.read.option('header', True).csv('workspace/flights.csv')\\\n",
    "    .withColumn(\"year_month\", year_month(col(\"YEAR\"), col(\"MONTH\")))\\\n",
    "    .withColumn(\"delay_origin\", when((cond1&cond2|cond3), 1))\\\n",
    "    .withColumn(\"delay_dest\", when((cond4&cond2|cond5), 1))\n",
    "origin = flights_csv.select('year_month', 'delay_origin', 'AIRLINE', 'ORIGIN_AIRPORT').groupBy('year_month', 'AIRLINE', 'ORIGIN_AIRPORT').agg(sum(\"delay_origin\").alias(\"delay_origin\")).orderBy('year_month', 'AIRLINE')\n",
    "dest = flights_csv.select('year_month', 'delay_dest' , 'AIRLINE', 'DESTINATION_AIRPORT').groupBy('year_month', 'AIRLINE', 'DESTINATION_AIRPORT').agg(sum(\"delay_dest\").alias(\"delay_dest\")).orderBy('year_month', 'AIRLINE')\n",
    "dest_renamed = dest.withColumnRenamed('AIRLINE', 'AIRLINE1').withColumnRenamed('year_month', 'month_year')\n",
    "origin_renamed = origin.withColumnRenamed('AIRLINE', 'AIRLINE1').withColumnRenamed('year_month', 'month_year')\n",
    "dest_renamed.write.parquet('workspace/dest')\n",
    "origin.write.parquet('workspace/origin')\n"
   ]
  },
  {
   "cell_type": "code",
   "execution_count": 290,
   "metadata": {},
   "outputs": [],
   "source": [
    "new_airlines = spark.read.option('header', True).parquet('workspace/new_airlines')\n",
    "new_origin = spark.read.option('header', True).parquet('workspace/origin')\n",
    "new_dest = spark.read.option('header', True).parquet('workspace/dest')"
   ]
  },
  {
   "cell_type": "code",
   "execution_count": 291,
   "metadata": {},
   "outputs": [
    {
     "name": "stdout",
     "output_type": "stream",
     "text": [
      "root\n",
      " |-- year_month: string (nullable = true)\n",
      " |-- AIRLINE: string (nullable = true)\n",
      " |-- ORIGIN_AIRPORT: string (nullable = true)\n",
      " |-- delay_origin: long (nullable = true)\n",
      "\n"
     ]
    }
   ],
   "source": [
    "new_origin.printSchema()"
   ]
  },
  {
   "cell_type": "code",
   "execution_count": 292,
   "metadata": {},
   "outputs": [
    {
     "name": "stdout",
     "output_type": "stream",
     "text": [
      "root\n",
      " |-- month_year: string (nullable = true)\n",
      " |-- AIRLINE1: string (nullable = true)\n",
      " |-- DESTINATION_AIRPORT: string (nullable = true)\n",
      " |-- delay_dest: long (nullable = true)\n",
      "\n"
     ]
    }
   ],
   "source": [
    "new_dest.printSchema()"
   ]
  },
  {
   "cell_type": "code",
   "execution_count": 301,
   "metadata": {},
   "outputs": [],
   "source": [
    "cond1 = new_origin.AIRLINE == new_dest.AIRLINE1\n",
    "cond2 = new_origin.year_month == new_dest.month_year\n",
    "cond3 = new_origin.ORIGIN_AIRPORT == new_dest.DESTINATION_AIRPORT\n",
    "full = new_origin.join(new_dest, cond1&cond2&cond3, 'outer').orderBy('year_month', 'AIRLINE')\n",
    "new_full = full.withColumn(\"year_month_\", when(full.year_month.isNull(), full.month_year).otherwise(full.year_month))\\\n",
    "    .withColumn(\"airline_\", when(full.AIRLINE.isNull(), full.AIRLINE1).otherwise(full.AIRLINE))\\\n",
    "    .withColumn(\"airport_\", when(full.ORIGIN_AIRPORT.isNull(), full.DESTINATION_AIRPORT).otherwise(full.ORIGIN_AIRPORT))\\\n",
    "    .withColumn(\"delay_\", col('delay_dest') + col('delay_origin'))"
   ]
  },
  {
   "cell_type": "code",
   "execution_count": 309,
   "metadata": {},
   "outputs": [],
   "source": [
    "new_full = new_full.select('year_month_', 'airline_', 'airport_', 'delay_').orderBy('year_month_', 'airport_')\n",
    "new_full.write.parquet('workspace/new_full')"
   ]
  },
  {
   "cell_type": "code",
   "execution_count": 310,
   "metadata": {},
   "outputs": [],
   "source": [
    "new_full = spark.read.option('header', True).parquet('workspace/new_full')"
   ]
  },
  {
   "cell_type": "code",
   "execution_count": 319,
   "metadata": {},
   "outputs": [],
   "source": [
    "cond1 = new_airlines.airline_iata_code == new_full.airline_\n",
    "cond2 = new_airlines.year_month == new_full.year_month_\n",
    "cond3 = new_airlines.airport_code == new_full.airport_\n",
    "res = new_airlines.join(new_full, cond1&cond2&cond3, 'left')\n",
    "res_ = res.select('*')\\\n",
    ".groupBy('year_month', 'airport_code', 'airline_iata_code', 'number_of_delays_for_airport', 'airline_name')\\\n",
    ".agg(sum(\"delay_\").alias(\"number_of_delays_for_airline_in_airport\"))\n",
    "res.write.parquet('workspace/task2_parquet')\n",
    "res.write.csv('workspace/task2_csv')"
   ]
  },
  {
   "cell_type": "code",
   "execution_count": null,
   "metadata": {},
   "outputs": [],
   "source": []
  }
 ],
 "metadata": {
  "kernelspec": {
   "display_name": "Python 3",
   "language": "python",
   "name": "python3"
  },
  "language_info": {
   "codemirror_mode": {
    "name": "ipython",
    "version": 3
   },
   "file_extension": ".py",
   "mimetype": "text/x-python",
   "name": "python",
   "nbconvert_exporter": "python",
   "pygments_lexer": "ipython3",
   "version": "3.7.6"
  }
 },
 "nbformat": 4,
 "nbformat_minor": 4
}
