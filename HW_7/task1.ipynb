{
 "cells": [
  {
   "cell_type": "code",
   "execution_count": 35,
   "metadata": {},
   "outputs": [],
   "source": [
    "from pyspark.sql import SparkSession, DataFrame\n",
    "from pyspark.sql.types import StructType, StructField, IntegerType, StringType, DoubleType\n",
    "from pyspark.sql.functions import *"
   ]
  },
  {
   "cell_type": "code",
   "execution_count": 44,
   "metadata": {},
   "outputs": [
    {
     "name": "stdout",
     "output_type": "stream",
     "text": [
      "+--------------+-------+\n",
      "|ORIGIN_AIRPORT|  DELAY|\n",
      "+--------------+-------+\n",
      "|           ORD|3930516|\n",
      "|           ATL|3216786|\n",
      "|           DFW|2693801|\n",
      "|           DEN|2297099|\n",
      "|           LAX|2054876|\n",
      "|           IAH|1675156|\n",
      "|           SFO|1633300|\n",
      "|           LAS|1449151|\n",
      "|           EWR|1346776|\n",
      "|           MCO|1324481|\n",
      "|           PHX|1265540|\n",
      "|           LGA|1259682|\n",
      "|           BWI|1128662|\n",
      "|           JFK|1114974|\n",
      "|           MDW|1015569|\n",
      "|           BOS|1011267|\n",
      "|           DTW| 982214|\n",
      "|           MIA| 859397|\n",
      "|           CLT| 837941|\n",
      "|           MSP| 808020|\n",
      "+--------------+-------+\n",
      "only showing top 20 rows\n",
      "\n"
     ]
    }
   ],
   "source": [
    "spark = SparkSession \\\n",
    "    .builder \\\n",
    "    .getOrCreate()\n",
    "flights = spark.read.option('header', True).csv('workspace/flights.csv')\n",
    "flights = flights.withColumn(\"DEPARTURE_DELAY\", flights[\"DEPARTURE_DELAY\"].cast(IntegerType()))\n",
    "flights.groupBy(\"ORIGIN_AIRPORT\").agg(sum(\"DEPARTURE_DELAY\").alias(\"DELAY\")).sort(desc(\"DELAY\")).show()\n"
   ]
  },
  {
   "cell_type": "code",
   "execution_count": null,
   "metadata": {},
   "outputs": [],
   "source": []
  }
 ],
 "metadata": {
  "kernelspec": {
   "display_name": "Python 3",
   "language": "python",
   "name": "python3"
  },
  "language_info": {
   "codemirror_mode": {
    "name": "ipython",
    "version": 3
   },
   "file_extension": ".py",
   "mimetype": "text/x-python",
   "name": "python",
   "nbconvert_exporter": "python",
   "pygments_lexer": "ipython3",
   "version": "3.7.6"
  }
 },
 "nbformat": 4,
 "nbformat_minor": 4
}
